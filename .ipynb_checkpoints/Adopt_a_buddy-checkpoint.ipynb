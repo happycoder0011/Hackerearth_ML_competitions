{
 "cells": [
  {
   "cell_type": "code",
   "execution_count": 42,
   "metadata": {},
   "outputs": [
    {
     "ename": "ImportError",
     "evalue": "cannot import name '_deprecate_positional_args'",
     "output_type": "error",
     "traceback": [
      "\u001b[1;31m---------------------------------------------------------------------------\u001b[0m",
      "\u001b[1;31mImportError\u001b[0m                               Traceback (most recent call last)",
      "\u001b[1;32m<ipython-input-42-8cf433494bbc>\u001b[0m in \u001b[0;36m<module>\u001b[1;34m()\u001b[0m\n\u001b[0;32m      6\u001b[0m \u001b[1;32mimport\u001b[0m \u001b[0mmatplotlib\u001b[0m\u001b[1;33m\u001b[0m\u001b[0m\n\u001b[0;32m      7\u001b[0m \u001b[1;32mimport\u001b[0m \u001b[0msklearn\u001b[0m\u001b[1;33m.\u001b[0m\u001b[0mmodel_selection\u001b[0m\u001b[1;33m\u001b[0m\u001b[0m\n\u001b[1;32m----> 8\u001b[1;33m \u001b[1;32mfrom\u001b[0m \u001b[0msklearn\u001b[0m\u001b[1;33m.\u001b[0m\u001b[0mimpute\u001b[0m \u001b[1;32mimport\u001b[0m \u001b[0mSimpleImputer\u001b[0m\u001b[1;33m\u001b[0m\u001b[0m\n\u001b[0m",
      "\u001b[1;32m~\\anaconda3\\envs\\MLcomp\\lib\\site-packages\\sklearn\\impute\\__init__.py\u001b[0m in \u001b[0;36m<module>\u001b[1;34m()\u001b[0m\n\u001b[0;32m      2\u001b[0m \u001b[1;32mimport\u001b[0m \u001b[0mtyping\u001b[0m\u001b[1;33m\u001b[0m\u001b[0m\n\u001b[0;32m      3\u001b[0m \u001b[1;33m\u001b[0m\u001b[0m\n\u001b[1;32m----> 4\u001b[1;33m \u001b[1;32mfrom\u001b[0m \u001b[1;33m.\u001b[0m\u001b[0m_base\u001b[0m \u001b[1;32mimport\u001b[0m \u001b[0mMissingIndicator\u001b[0m\u001b[1;33m,\u001b[0m \u001b[0mSimpleImputer\u001b[0m\u001b[1;33m\u001b[0m\u001b[0m\n\u001b[0m\u001b[0;32m      5\u001b[0m \u001b[1;32mfrom\u001b[0m \u001b[1;33m.\u001b[0m\u001b[0m_knn\u001b[0m \u001b[1;32mimport\u001b[0m \u001b[0mKNNImputer\u001b[0m\u001b[1;33m\u001b[0m\u001b[0m\n\u001b[0;32m      6\u001b[0m \u001b[1;33m\u001b[0m\u001b[0m\n",
      "\u001b[1;32m~\\anaconda3\\envs\\MLcomp\\lib\\site-packages\\sklearn\\impute\\_base.py\u001b[0m in \u001b[0;36m<module>\u001b[1;34m()\u001b[0m\n\u001b[0;32m     15\u001b[0m \u001b[1;32mfrom\u001b[0m \u001b[1;33m.\u001b[0m\u001b[1;33m.\u001b[0m\u001b[0mutils\u001b[0m\u001b[1;33m.\u001b[0m\u001b[0mvalidation\u001b[0m \u001b[1;32mimport\u001b[0m \u001b[0mcheck_is_fitted\u001b[0m\u001b[1;33m\u001b[0m\u001b[0m\n\u001b[0;32m     16\u001b[0m \u001b[1;32mfrom\u001b[0m \u001b[1;33m.\u001b[0m\u001b[1;33m.\u001b[0m\u001b[0mutils\u001b[0m\u001b[1;33m.\u001b[0m\u001b[0mvalidation\u001b[0m \u001b[1;32mimport\u001b[0m \u001b[0mFLOAT_DTYPES\u001b[0m\u001b[1;33m\u001b[0m\u001b[0m\n\u001b[1;32m---> 17\u001b[1;33m \u001b[1;32mfrom\u001b[0m \u001b[1;33m.\u001b[0m\u001b[1;33m.\u001b[0m\u001b[0mutils\u001b[0m\u001b[1;33m.\u001b[0m\u001b[0mvalidation\u001b[0m \u001b[1;32mimport\u001b[0m \u001b[0m_deprecate_positional_args\u001b[0m\u001b[1;33m\u001b[0m\u001b[0m\n\u001b[0m\u001b[0;32m     18\u001b[0m \u001b[1;32mfrom\u001b[0m \u001b[1;33m.\u001b[0m\u001b[1;33m.\u001b[0m\u001b[0mutils\u001b[0m\u001b[1;33m.\u001b[0m\u001b[0m_mask\u001b[0m \u001b[1;32mimport\u001b[0m \u001b[0m_get_mask\u001b[0m\u001b[1;33m\u001b[0m\u001b[0m\n\u001b[0;32m     19\u001b[0m \u001b[1;32mfrom\u001b[0m \u001b[1;33m.\u001b[0m\u001b[1;33m.\u001b[0m\u001b[0mutils\u001b[0m \u001b[1;32mimport\u001b[0m \u001b[0mis_scalar_nan\u001b[0m\u001b[1;33m\u001b[0m\u001b[0m\n",
      "\u001b[1;31mImportError\u001b[0m: cannot import name '_deprecate_positional_args'"
     ]
    }
   ],
   "source": [
    "import numpy as np\n",
    "import pandas as pd\n",
    "import seaborn as sns\n",
    "from sklearn.metrics import *\n",
    "import matplotlib.pyplot as plt\n",
    "import matplotlib\n",
    "import sklearn.model_selection\n",
    "from sklearn.impute import "
   ]
  },
  {
   "cell_type": "code",
   "execution_count": 16,
   "metadata": {
    "collapsed": true
   },
   "outputs": [],
   "source": [
    "# Import Classifiers\n",
    "from sklearn.linear_model import LogisticRegression\n",
    "from sklearn.model_selection import GridSearchCV\n",
    "from sklearn.model_selection import RepeatedStratifiedKFold\n",
    "from sklearn.ensemble import RandomForestClassifier\n",
    "from sklearn.linear_model import Perceptron\n",
    "from sklearn.linear_model import SGDClassifier\n",
    "from sklearn.tree import DecisionTreeClassifier\n",
    "from sklearn.neighbors import KNeighborsClassifier\n",
    "from sklearn.svm import SVC, LinearSVC\n",
    "from sklearn.naive_bayes import GaussianNB"
   ]
  },
  {
   "cell_type": "code",
   "execution_count": 20,
   "metadata": {},
   "outputs": [
    {
     "name": "stdout",
     "output_type": "stream",
     "text": [
      "18834 11\n",
      "8072 9\n",
      "       pet_id           issue_date         listing_date  condition  \\\n",
      "0  ANSL_69903  2016-07-10 00:00:00  2016-09-21 16:25:00        2.0   \n",
      "1  ANSL_66892  2013-11-21 00:00:00  2018-12-27 17:47:00        1.0   \n",
      "2  ANSL_69750  2014-09-28 00:00:00  2016-10-19 08:24:00        NaN   \n",
      "3  ANSL_71623  2016-12-31 00:00:00  2019-01-25 18:30:00        1.0   \n",
      "4  ANSL_57969  2017-09-28 00:00:00  2017-11-19 09:38:00        2.0   \n",
      "5  ANSL_52200  2017-10-25 00:00:00  2019-03-10 13:18:00        0.0   \n",
      "6  ANSL_75444  2018-11-06 00:00:00  2019-04-09 16:00:00        2.0   \n",
      "7  ANSL_52759  2018-06-05 00:00:00  2018-09-02 17:04:00        0.0   \n",
      "8  ANSL_74632  2015-10-10 00:00:00  2016-08-04 16:29:00        2.0   \n",
      "9  ANSL_56464  2014-02-18 00:00:00  2017-03-17 11:38:00        2.0   \n",
      "\n",
      "    color_type  length(m)  height(cm)  X1  X2  breed_category  pet_category  \n",
      "0  Brown Tabby       0.80        7.78  13   9             0.0             1  \n",
      "1        White       0.72       14.19  13   9             0.0             2  \n",
      "2        Brown       0.15       40.90  15   4             2.0             4  \n",
      "3        White       0.62       17.82   0   1             0.0             2  \n",
      "4        Black       0.50       11.06  18   4             0.0             1  \n",
      "5          Red       0.92       29.56   0   7             1.0             2  \n",
      "6  Brown Tabby       0.14       40.24   0   1             0.0             1  \n",
      "7        White       0.15       25.48   7   1             1.0             1  \n",
      "8        Brown       0.05       38.22  13   9             1.0             2  \n",
      "9        Brown       0.55       21.26  13   9             1.0             2  \n"
     ]
    },
    {
     "data": {
      "text/plain": [
       "Index(['pet_id', 'issue_date', 'listing_date', 'condition', 'color_type',\n",
       "       'length(m)', 'height(cm)', 'X1', 'X2', 'breed_category',\n",
       "       'pet_category'],\n",
       "      dtype='object')"
      ]
     },
     "execution_count": 20,
     "metadata": {},
     "output_type": "execute_result"
    }
   ],
   "source": [
    "#loading data set\n",
    "test=pd.read_csv(\"./test.csv\")\n",
    "train=pd.read_csv(\"./train.csv\")\n",
    "train_m,train_n=train.shape\n",
    "print(train_m,train_n)\n",
    "test_m,test_n = test.shape\n",
    "print(test_m,test_n)\n",
    "print(train.head(10))\n",
    "train.columns"
   ]
  },
  {
   "cell_type": "code",
   "execution_count": 18,
   "metadata": {},
   "outputs": [
    {
     "data": {
      "image/png": "[encoded data removed]",
      "text/plain": [
       "<matplotlib.figure.Figure at 0x26af515e940>"
      ]
     },
     "metadata": {},
     "output_type": "display_data"
    }
   ],
   "source": [
    "#correlation matrix\n",
    "corrmatrix = train.corr()\n",
    "sns.heatmap(corrmatrix, annot=True)\n",
    "plt.show()"
   ]
  },
  {
   "cell_type": "code",
   "execution_count": 24,
   "metadata": {},
   "outputs": [
    {
     "name": "stdout",
     "output_type": "stream",
     "text": [
      "       condition     color_type  length(m)  height(cm)  X1  X2\n",
      "0            2.0    Brown Tabby       0.80        7.78  13   9\n",
      "1            1.0          White       0.72       14.19  13   9\n",
      "2            NaN          Brown       0.15       40.90  15   4\n",
      "3            1.0          White       0.62       17.82   0   1\n",
      "4            2.0          Black       0.50       11.06  18   4\n",
      "5            0.0            Red       0.92       29.56   0   7\n",
      "6            2.0    Brown Tabby       0.14       40.24   0   1\n",
      "7            0.0          White       0.15       25.48   7   1\n",
      "8            2.0          Brown       0.05       38.22  13   9\n",
      "9            2.0          Brown       0.55       21.26  13   9\n",
      "10           0.0       Tricolor       0.30       23.06   0   1\n",
      "11           2.0    Brown Tabby       0.44       40.32  16   9\n",
      "12           1.0          Black       0.20       30.78  13   9\n",
      "13           1.0          White       0.45        5.39  13   9\n",
      "14           0.0         Calico       0.48       30.54   0   1\n",
      "15           1.0          Black       0.18       49.05  13   9\n",
      "16           1.0            Red       0.88       49.50   7   1\n",
      "17           1.0          Black       0.93       14.83   0   7\n",
      "18           2.0  Brown Brindle       0.76       38.99  13   9\n",
      "19           0.0          Black       0.96       24.33   0   1\n",
      "20           1.0    Brown Tabby       0.66       36.01   0   1\n",
      "21           NaN          Brown       0.45       14.00  11   4\n",
      "22           0.0          White       0.92       49.50   7   1\n",
      "23           0.0           Blue       0.31       49.04  13   9\n",
      "24           2.0          Black       0.51       45.53  13   9\n",
      "25           1.0          Black       0.80       37.17   0   7\n",
      "26           0.0         Tortie       0.53       35.06   0   1\n",
      "27           1.0           Gray       0.32       48.92   0   7\n",
      "28           1.0           Fawn       0.98       14.02   0   7\n",
      "29           0.0       Tricolor       0.68       22.33   0   7\n",
      "...          ...            ...        ...         ...  ..  ..\n",
      "18804        2.0           Blue       0.42       47.55  13   9\n",
      "18805        0.0          Black       0.35       29.59   0   1\n",
      "18806        1.0          Black       0.11       17.19   0   1\n",
      "18807        1.0          White       0.42       41.54  18   4\n",
      "18808        1.0           Blue       0.70       18.99  13   9\n",
      "18809        0.0          Black       0.13       48.85   0   7\n",
      "18810        1.0          Black       0.48       18.12   0   1\n",
      "18811        0.0         Tortie       0.81       11.73   0   1\n",
      "18812        NaN          Brown       0.58       40.07  15   4\n",
      "18813        2.0     Blue Tabby       0.80       49.07   0   1\n",
      "18814        1.0   Orange Tabby       0.87        8.63   0   8\n",
      "18815        1.0          Cream       0.46       32.43   0   1\n",
      "18816        0.0          Brown       0.67       37.81   0   1\n",
      "18817        2.0          Black       0.86       39.02  18   4\n",
      "18818        2.0    Brown Tabby       0.69        5.68  13   9\n",
      "18819        2.0    Brown Tabby       0.98       33.43  13   9\n",
      "18820        0.0          Black       0.86       23.06   7   1\n",
      "18821        0.0            Tan       0.51       22.27   7   1\n",
      "18822        1.0          Black       0.92       21.08   0   1\n",
      "18823        1.0          Brown       0.42       42.51   0   1\n",
      "18824        0.0       Tricolor       0.81       38.34   0   1\n",
      "18825        0.0          Black       0.81       44.96  13   9\n",
      "18826        2.0            Tan       0.49       48.05   0   7\n",
      "18827        0.0       Tricolor       0.13       41.25   0   1\n",
      "18828        1.0    Cream Tabby       0.98       33.81  17   9\n",
      "18829        2.0       Tricolor       0.44       27.36   0   1\n",
      "18830        NaN          Brown       0.73       14.25  15   4\n",
      "18831        0.0   Calico Point       0.99       28.13  13   9\n",
      "18832        0.0            Tan       0.55       44.82  13   9\n",
      "18833        0.0          Brown       0.86       37.40   0   1\n",
      "\n",
      "[18834 rows x 6 columns]\n"
     ]
    }
   ],
   "source": [
    "#data preprocessing \n",
    "X = train.drop([\"pet_id\",\"issue_date\",\"listing_date\",\"breed_category\",\"pet_category\"],axis=1) \n",
    "y = train[[\"breed_category\",\"pet_category\"]]\n",
    "print(X)"
   ]
  },
  {
   "cell_type": "code",
   "execution_count": 38,
   "metadata": {},
   "outputs": [
    {
     "data": {
      "text/plain": [
       "['condition']"
      ]
     },
     "execution_count": 38,
     "metadata": {},
     "output_type": "execute_result"
    }
   ],
   "source": [
    "#identifying Nan columns\n",
    "train.columns[train.isnull().any()].tolist()\n",
    "test.columns[test.isnull().any()].tolist()"
   ]
  },
  {
   "cell_type": "code",
   "execution_count": 32,
   "metadata": {},
   "outputs": [],
   "source": [
    "X_train, X_vald, y_train, y_vald = sklearn.model_selection.train_test_split(X, y, \n",
    "                                                    test_size = 0.2, random_state=0)"
   ]
  },
  {
   "cell_type": "code",
   "execution_count": 39,
   "metadata": {},
   "outputs": [
    {
     "ename": "NameError",
     "evalue": "name 'SimpleImputer' is not defined",
     "output_type": "error",
     "traceback": [
      "\u001b[1;31m---------------------------------------------------------------------------\u001b[0m",
      "\u001b[1;31mNameError\u001b[0m                                 Traceback (most recent call last)",
      "\u001b[1;32m<ipython-input-39-a8219650829c>\u001b[0m in \u001b[0;36m<module>\u001b[1;34m()\u001b[0m\n\u001b[1;32m----> 1\u001b[1;33m \u001b[0mimp_mean\u001b[0m \u001b[1;33m=\u001b[0m \u001b[0mSimpleImputer\u001b[0m\u001b[1;33m(\u001b[0m\u001b[0mmissing_values\u001b[0m\u001b[1;33m=\u001b[0m\u001b[0mnp\u001b[0m\u001b[1;33m.\u001b[0m\u001b[0mnan\u001b[0m\u001b[1;33m,\u001b[0m \u001b[0mstrategy\u001b[0m\u001b[1;33m=\u001b[0m\u001b[1;34m'most_frequent'\u001b[0m\u001b[1;33m)\u001b[0m\u001b[1;33m\u001b[0m\u001b[0m\n\u001b[0m",
      "\u001b[1;31mNameError\u001b[0m: name 'SimpleImputer' is not defined"
     ]
    }
   ],
   "source": [
    "imp_mean = SimpleImputer(missing_values=np.nan, strategy='most_frequent')"
   ]
  },
  {
   "cell_type": "code",
   "execution_count": null,
   "metadata": {
    "collapsed": true
   },
   "outputs": [],
   "source": []
  }
 ],
 "metadata": {
  "kernelspec": {
   "display_name": "Python 3",
   "language": "python",
   "name": "python3"
  },
  "language_info": {
   "codemirror_mode": {
    "name": "ipython",
    "version": 3
   },
   "file_extension": ".py",
   "mimetype": "text/x-python",
   "name": "python",
   "nbconvert_exporter": "python",
   "pygments_lexer": "ipython3",
   "version": "3.6.3"
  }
 },
 "nbformat": 4,
 "nbformat_minor": 2
}
